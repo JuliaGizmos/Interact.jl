{
 "cells": [
  {
   "cell_type": "markdown",
   "metadata": {},
   "source": [
    "# Animating"
   ]
  },
  {
   "cell_type": "code",
   "execution_count": null,
   "metadata": {},
   "outputs": [],
   "source": [
    "using Interact, Plots"
   ]
  },
  {
   "cell_type": "markdown",
   "metadata": {},
   "source": [
    "It is possible to create interactive animations using `@async` to create asyncronous timers"
   ]
  },
  {
   "cell_type": "code",
   "execution_count": null,
   "metadata": {},
   "outputs": [],
   "source": [
    "using Colors\n",
    "\n",
    "timer = Observable(time())\n",
    "@async while true\n",
    "    sleep(0.1)\n",
    "    timer[] = time()\n",
    "end\n",
    "    \n",
    "\n",
    "@manipulate for color=[\"yellow\", \"cyan\", \"tomato\"], n=3:20, t=timer\n",
    "    h, w = 100, 100\n",
    "    attributes = Dict(\n",
    "        \"fill\" => color,\n",
    "        \"points\" => join([\"$(w/2*(1+sin(θ+t))),$(h/2*(1+cos(θ+t)))\" for θ in 0:2π/n:2π], ' ')\n",
    "    )\n",
    "    dom\"svg:svg[width=$w, height=$h]\"(dom\"svg:polygon\"(attributes=attributes))\n",
    "end"
   ]
  },
  {
   "cell_type": "markdown",
   "metadata": {},
   "source": [
    "Here's an animation using Plots"
   ]
  },
  {
   "cell_type": "code",
   "execution_count": null,
   "metadata": {},
   "outputs": [],
   "source": [
    "using Plots, Colors"
   ]
  },
  {
   "cell_type": "code",
   "execution_count": null,
   "metadata": {},
   "outputs": [],
   "source": [
    "timer = Observable(0.0)\n",
    "@async while true\n",
    "    sleep(0.1)\n",
    "    timer[] = timer[]+0.1\n",
    "end\n",
    "\n",
    "@manipulate for col1 = colorant\"red\", col2 = colorant\"blue\", lw=1:0.1:10, t=timer\n",
    "    x = -π:0.1:π\n",
    "    plot(x, [sin.(x.+t) cos.(x.+2t)], color = [col1 col2], linewidth = lw)\n",
    "end"
   ]
  },
  {
   "cell_type": "markdown",
   "metadata": {},
   "source": [
    "If you used Interact to come up with something cool, do let us know by commenting on [this issue](https://github.com/JuliaLang/Interact.jl/issues/36). :)"
   ]
  },
  {
   "cell_type": "code",
   "execution_count": null,
   "metadata": {},
   "outputs": [],
   "source": []
  }
 ],
 "metadata": {
  "kernelspec": {
   "display_name": "Julia 0.6.2",
   "language": "julia",
   "name": "julia-0.6"
  },
  "language_info": {
   "file_extension": ".jl",
   "mimetype": "application/julia",
   "name": "julia",
   "version": "0.6.2"
  },
  "widgets": {
   "state": {
    "54b43c99-6232-43e4-9a0f-dba6dbb5ef4a": {
     "views": [
      {
       "cell_index": 6
      }
     ]
    },
    "624868f2-185b-419a-855b-e495d42adff8": {
     "views": [
      {
       "cell_index": 6
      }
     ]
    },
    "6928c000-0022-4cb7-bd0d-b614c954c71c": {
     "views": [
      {
       "cell_index": 4
      }
     ]
    },
    "882fd3d0-1bee-40a0-8138-5d121bbb9dd8": {
     "views": [
      {
       "cell_index": 10
      }
     ]
    },
    "a5c3d7a7-6fcb-48c8-97c1-c2d063e66d84": {
     "views": [
      {
       "cell_index": 6
      }
     ]
    },
    "be6d5e48-f29d-4756-aa15-3b671012c7d9": {
     "views": [
      {
       "cell_index": 8
      }
     ]
    },
    "d78b3490-c224-477f-a799-3c0fcb78ff1b": {
     "views": [
      {
       "cell_index": 4
      }
     ]
    }
   },
   "version": "1.2.0"
  }
 },
 "nbformat": 4,
 "nbformat_minor": 1
}
