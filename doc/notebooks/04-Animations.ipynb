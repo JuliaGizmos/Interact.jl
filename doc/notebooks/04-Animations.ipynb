{
 "cells": [
  {
   "cell_type": "markdown",
   "metadata": {},
   "source": [
    "# Animating"
   ]
  },
  {
   "cell_type": "code",
   "execution_count": null,
   "metadata": {
    "collapsed": false
   },
   "outputs": [],
   "source": [
    "using Interact, Reactive"
   ]
  },
  {
   "cell_type": "markdown",
   "metadata": {},
   "source": [
    "It is possible to create interactive animations using Reactive's [timing functions](julialang.org/Reactive.jl/api.html#timing)."
   ]
  },
  {
   "cell_type": "markdown",
   "metadata": {},
   "source": [
    "Functions like `fps`, `fpswhen`, `every` etc, let us create periodically updating signals. This, combined with the other functions in Reactive provide for declarative ways to define animations. Let us now take the n-gon compose example from interactive diagrams notebook and animate it."
   ]
  },
  {
   "cell_type": "code",
   "execution_count": null,
   "metadata": {
    "collapsed": false
   },
   "outputs": [],
   "source": [
    "using Colors\n",
    "using Compose\n",
    "\n",
    "@manipulate for color=[\"yellow\", \"cyan\", \"tomato\"], n=3:20, ticks=fps(30.)\n",
    "    t = time()\n",
    "    compose(context(), fill(parse(Colorant, color)),\n",
    "    polygon([((1+sin(θ+t))/2, (1+cos(θ+t))/2) for θ in 0:2π/n:2π]))\n",
    "end"
   ]
  },
  {
   "cell_type": "markdown",
   "metadata": {},
   "source": [
    "It's often advisable to give your animations a pause checkbox. Here is a bouncing ball that you can pause and resume"
   ]
  },
  {
   "cell_type": "code",
   "execution_count": null,
   "metadata": {
    "collapsed": false
   },
   "outputs": [],
   "source": [
    "using Compose\n",
    "\n",
    "@manipulate for \n",
    "    dt = fps(30),\n",
    "    t = foldp(+, 0., dt),                    # add up the time deltas to get time\n",
    "    gravity = 0:0.01:5,                      # some sort of gravity\n",
    "    color = [\"tomato\", \"cyan\"]               # color the ball\n",
    "\n",
    "    compose(context(0.5, 1-abs(sin(t*gravity)), 0.1, 0.1), fill(parse(Colorant, color)), circle())\n",
    "end"
   ]
  },
  {
   "cell_type": "markdown",
   "metadata": {},
   "source": [
    "Here is a captivating animation made with tiles of varying colors."
   ]
  },
  {
   "cell_type": "code",
   "execution_count": null,
   "metadata": {
    "collapsed": false
   },
   "outputs": [],
   "source": [
    "using Colors\n",
    "using Compose\n",
    "\n",
    "@manipulate for unpaused = true, ticks=fpswhen(signal(unpaused), 30.)\n",
    "    gridstack([compose(context(), rectangle(), fill(ColorTypes.LCHab(70.0, 60.0, 100*time()+i*j)))\n",
    "                   for i in 1:8, j in 1:8])\n",
    "end"
   ]
  },
  {
   "cell_type": "markdown",
   "metadata": {},
   "source": [
    "And finally, particles in a box."
   ]
  },
  {
   "cell_type": "code",
   "execution_count": null,
   "metadata": {
    "collapsed": false
   },
   "outputs": [],
   "source": [
    "using Compose\n",
    "\n",
    "box(x) = let i = floor(x)\n",
    "    i%2==0 ? x-i : 1+i-x\n",
    "end\n",
    "\n",
    "colors = [\"orange\", \"cyan\", \"gray\", \"tomato\"]\n",
    "\n",
    "dots(points) = [(context(p[1], p[2], .05, .05), fill(parse(Colorant, colors[i%4+1])), circle())\n",
    "    for (i, p) in enumerate(points)]\n",
    "\n",
    "@manipulate for ticks=fps(30.), add=button(\"Add particle\"),\n",
    "    velocities = foldp((x,y) -> push!(x, rand(2)), Any[rand(2)], signal(add))\n",
    "\n",
    "    compose(context(),\n",
    "        dots([map(v -> box(v*time()), (vx, vy)) for (vx, vy) in velocities])...)\n",
    "end"
   ]
  },
  {
   "cell_type": "markdown",
   "metadata": {},
   "source": [
    "If you used Interact to come up with something cool, do let us know by commenting on [this issue](https://github.com/JuliaLang/Interact.jl/issues/36). :)"
   ]
  },
  {
   "cell_type": "code",
   "execution_count": null,
   "metadata": {
    "collapsed": true
   },
   "outputs": [],
   "source": []
  }
 ],
 "metadata": {
  "kernelspec": {
   "display_name": "Julia 0.4.7-pre",
   "language": "julia",
   "name": "julia-0.4"
  },
  "language_info": {
   "file_extension": ".jl",
   "mimetype": "application/julia",
   "name": "julia",
   "version": "0.4.7"
  },
  "latex_envs": {
   "bibliofile": "biblio.bib",
   "cite_by": "apalike",
   "current_citInitial": 1,
   "eqLabelWithNumbers": true,
   "eqNumInitial": 0
  }
 },
 "nbformat": 4,
 "nbformat_minor": 0
}
