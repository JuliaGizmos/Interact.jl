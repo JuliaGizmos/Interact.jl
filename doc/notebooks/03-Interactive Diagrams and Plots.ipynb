{
 "cells": [
  {
   "cell_type": "markdown",
   "metadata": {},
   "source": [
    "# Interactive Plots and Diagrams"
   ]
  },
  {
   "cell_type": "code",
   "execution_count": null,
   "metadata": {
    "collapsed": false
   },
   "outputs": [],
   "source": [
    "using Reactive, Interact"
   ]
  },
  {
   "cell_type": "markdown",
   "metadata": {},
   "source": [
    "Interactive plotting can be useful and fun. Here we have a few examples to get you started creating your own interactive plots. We will extensively use the `@manipulate` macro from the [introductory notebook](Introduction.ipynb)."
   ]
  },
  {
   "cell_type": "markdown",
   "metadata": {},
   "source": [
    "## Compose"
   ]
  },
  {
   "cell_type": "markdown",
   "metadata": {},
   "source": [
    "[Compose](http://composejl.org) is an excellent tool for creating declarative vector graphics. Here is an example compose diagram you can play around with."
   ]
  },
  {
   "cell_type": "code",
   "execution_count": null,
   "metadata": {
    "collapsed": false,
    "scrolled": false
   },
   "outputs": [],
   "source": [
    "using Colors\n",
    "using Compose\n",
    "\n",
    "@manipulate for color=[\"yellow\", \"cyan\", \"tomato\"], rotate=0:.05:2π, n=3:20\n",
    "    compose(context(), fill(parse(Colorant, color)),\n",
    "    polygon([((1+sin(θ+rotate))/2, (1+cos(θ+rotate))/2) for θ in 0:2π/n:2π]))\n",
    "end"
   ]
  },
  {
   "cell_type": "markdown",
   "metadata": {},
   "source": [
    "## Gadfly"
   ]
  },
  {
   "cell_type": "code",
   "execution_count": null,
   "metadata": {
    "collapsed": false
   },
   "outputs": [],
   "source": [
    "using Gadfly"
   ]
  },
  {
   "cell_type": "code",
   "execution_count": null,
   "metadata": {
    "collapsed": false
   },
   "outputs": [],
   "source": [
    "@manipulate for ϕ = 0:π/16:4π, f = [sin, cos], both = false\n",
    "    if both\n",
    "        plot([θ -> sin(θ + ϕ), θ -> cos(θ + ϕ)], 0, 8)\n",
    "    else\n",
    "        plot(θ -> f(θ + ϕ), 0, 8)\n",
    "    end\n",
    "end"
   ]
  },
  {
   "cell_type": "code",
   "execution_count": null,
   "metadata": {
    "collapsed": false
   },
   "outputs": [],
   "source": [
    "@manipulate for n=1:25, g=[Geom.point, Geom.line]\n",
    "    Gadfly.plot(y=rand(n), x=rand(n), g)\n",
    "end"
   ]
  },
  {
   "cell_type": "markdown",
   "metadata": {},
   "source": [
    "## PyPlot"
   ]
  },
  {
   "cell_type": "code",
   "execution_count": null,
   "metadata": {
    "collapsed": false
   },
   "outputs": [],
   "source": [
    "using PyPlot"
   ]
  },
  {
   "cell_type": "markdown",
   "metadata": {},
   "source": [
    "Because PyPlot images are often displayed as the result of function side-effects (as the following [issue](https://github.com/JuliaLang/Interact.jl/issues/41) notes, side effects are a problem more generally in interact.jl), you'll need to take an extra step in order for interactive PyPlot graphics to be updated properly as widget values are updated. You do this by using the `withfig` function to specify a figure object that will be updated in each iteration of `@manipulate`. Notice `f = figure()` and `withfig(f)` in the example below. The rest of it is straightforward."
   ]
  },
  {
   "cell_type": "code",
   "execution_count": null,
   "metadata": {
    "collapsed": false
   },
   "outputs": [],
   "source": [
    "f = figure()\n",
    "x = linspace(0,2π,1000)\n",
    "@manipulate for α=1:0.1:3, β=1:0.1:3, γ=1:0.1:3, leg=\"a funny plot\"; withfig(f) do\n",
    "        PyPlot.plot(x, cos(α*x + sin(β*x + γ)))\n",
    "        legend([leg])\n",
    "    end\n",
    "end"
   ]
  },
  {
   "cell_type": "markdown",
   "metadata": {},
   "source": [
    "As an added bonus, you can even fire up a Python GUI with `pygui(true)` and be able to use the widgets above to update the plot."
   ]
  },
  {
   "cell_type": "markdown",
   "metadata": {},
   "source": [
    "# PyPlot Subplots"
   ]
  },
  {
   "cell_type": "markdown",
   "metadata": {
    "collapsed": true
   },
   "source": [
    "Manipulating a PyPlot figure with multiple subplots adds an extra layer of complication. The `withfig` function clears the current figure window by default at each `@manipulate` iteration. If you're manipulating multiple subplots in one figure they will not be displayed correctly. To prevent subplots being destroyed use `withfig(f,clear=false)`. Setting `clear=false` leaves the responsibility for clearing the figure window up to the user. In the case of multiple subplots you can clear each axes object individually, rather than the figure itself. This is shown in the example below."
   ]
  },
  {
   "cell_type": "code",
   "execution_count": null,
   "metadata": {
    "collapsed": false
   },
   "outputs": [],
   "source": [
    "f2,axes = subplots(2,1)\n",
    "x = linspace(0,2π,1000)\n",
    "@manipulate for α=1:0.1:3, β=1:0.1:3, γ=1:0.1:3, leg1=\"a funny plot\", leg2=\" an even funnier plot\" \n",
    "    withfig(f2,clear=false) do\n",
    "        for ax in axes\n",
    "            ax[:cla]()\n",
    "        end\n",
    "        axes[1][:plot](x, sin(α*x + cos(β*x + γ)))\n",
    "        axes[2][:plot](x, cos(α*x + sin(β*x + γ)))\n",
    "        axes[1][:legend]([leg1])\n",
    "        axes[2][:legend]([leg2])\n",
    "    end\n",
    "end"
   ]
  },
  {
   "cell_type": "code",
   "execution_count": null,
   "metadata": {
    "collapsed": true
   },
   "outputs": [],
   "source": []
  }
 ],
 "metadata": {
  "kernelspec": {
   "display_name": "Julia 0.4.7-pre",
   "language": "julia",
   "name": "julia-0.4"
  },
  "language_info": {
   "file_extension": ".jl",
   "mimetype": "application/julia",
   "name": "julia",
   "version": "0.4.7"
  },
  "latex_envs": {
   "bibliofile": "biblio.bib",
   "cite_by": "apalike",
   "current_citInitial": 1,
   "eqLabelWithNumbers": true,
   "eqNumInitial": 0
  },
  "widgets": {
   "state": {
    "04fafc00-1549-4f6e-843e-e062f4db306a": {
     "views": [
      {
       "cell_index": 17
      }
     ]
    },
    "1f4eab65-d0b4-4af6-8861-7a537f02c5c8": {
     "views": [
      {
       "cell_index": 17
      }
     ]
    },
    "4cb3c7c0-9c61-42a4-8b29-71bbbd57ed11": {
     "views": [
      {
       "cell_index": 17
      }
     ]
    },
    "5931a214-3d2a-4dfd-b81d-1d9a6b5311d0": {
     "views": [
      {
       "cell_index": 17
      }
     ]
    },
    "60d357da-010f-4276-a3f2-9475f9bbf98a": {
     "views": [
      {
       "cell_index": 17
      }
     ]
    },
    "7487794d-47e9-43e6-acc1-822228fe7b0a": {
     "views": [
      {
       "cell_index": 17
      }
     ]
    },
    "b4beb082-1f0e-4224-97b3-39136405c67c": {
     "views": [
      {
       "cell_index": 17
      }
     ]
    },
    "badf4bb6-ad56-4b45-bad5-ba32b182b5a0": {
     "views": [
      {
       "cell_index": 17
      }
     ]
    },
    "d5ba0d23-91eb-4143-9871-8d1eaf53379d": {
     "views": [
      {
       "cell_index": 17
      }
     ]
    },
    "da50e326-1140-4957-be7f-040daa244cde": {
     "views": [
      {
       "cell_index": 13
      }
     ]
    },
    "eb1ce7f8-c2cc-450f-b68f-ba9e804ca21b": {
     "views": [
      {
       "cell_index": 13
      }
     ]
    },
    "fbc0f897-118a-48e7-acac-9fbfcd139b40": {
     "views": [
      {
       "cell_index": 17
      }
     ]
    }
   },
   "version": "1.2.0"
  }
 },
 "nbformat": 4,
 "nbformat_minor": 0
}
