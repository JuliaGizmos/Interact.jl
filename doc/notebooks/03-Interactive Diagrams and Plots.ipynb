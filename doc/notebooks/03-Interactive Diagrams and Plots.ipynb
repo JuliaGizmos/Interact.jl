{
 "cells": [
  {
   "cell_type": "markdown",
   "metadata": {},
   "source": [
    "# Interactive Plots and Diagrams"
   ]
  },
  {
   "cell_type": "code",
   "execution_count": null,
   "metadata": {},
   "outputs": [],
   "source": [
    "using Interact"
   ]
  },
  {
   "cell_type": "markdown",
   "metadata": {},
   "source": [
    "Interactive plotting can be useful and fun. Here we have a few examples to get you started creating your own interactive plots. We will extensively use the `@manipulate` macro."
   ]
  },
  {
   "cell_type": "markdown",
   "metadata": {},
   "source": [
    "## Drawing with svg"
   ]
  },
  {
   "cell_type": "markdown",
   "metadata": {},
   "source": [
    "The `dom\"..\"` macro allows us to create any element in the DOM, such as for example svg. Here is an example you can play around with."
   ]
  },
  {
   "cell_type": "code",
   "execution_count": null,
   "metadata": {
    "scrolled": false
   },
   "outputs": [],
   "source": [
    "width, height = 700, 300\n",
    "colors = [\"black\", \"gray\", \"silver\", \"maroon\", \"red\", \"olive\", \"yellow\", \"green\", \"lime\", \"teal\", \"aqua\", \"navy\", \"blue\", \"purple\", \"fuchsia\"]\n",
    "color(i) = colors[i%length(colors)+1]\n",
    "ui = @manipulate for nsamples in 1:200,\n",
    "        sample_step in slider(0.01:0.01:1.0, value=0.1, label=\"sample step\"),\n",
    "        phase in slider(0:0.1:2pi, value=0.0, label=\"phase\"),\n",
    "        radii in 0.1:0.1:60\n",
    "    cxs_unscaled = [i*sample_step + phase for i in 1:nsamples]\n",
    "    cys = sin.(cxs_unscaled) .* height/3 .+ height/2\n",
    "    cxs = cxs_unscaled .* width/4pi\n",
    "    dom\"svg:svg[width=$width, height=$height]\"(\n",
    "        (dom\"svg:circle[cx=$(cxs[i]), cy=$(cys[i]), r=$radii, fill=$(color(i))]\"()\n",
    "            for i in 1:nsamples)...\n",
    "    )\n",
    "end"
   ]
  },
  {
   "cell_type": "markdown",
   "metadata": {},
   "source": [
    "## Plots"
   ]
  },
  {
   "cell_type": "code",
   "execution_count": null,
   "metadata": {},
   "outputs": [],
   "source": [
    "using Plots, Colors"
   ]
  },
  {
   "cell_type": "code",
   "execution_count": null,
   "metadata": {},
   "outputs": [],
   "source": [
    "@manipulate for ϕ = 0:π/16:4π, f = [sin, cos], both = false\n",
    "    if both\n",
    "        plot([θ -> sin(θ + ϕ), θ -> cos(θ + ϕ)], 0, 8)\n",
    "    else\n",
    "        plot(θ -> f(θ + ϕ), 0, 8)\n",
    "    end\n",
    "end"
   ]
  },
  {
   "cell_type": "code",
   "execution_count": null,
   "metadata": {},
   "outputs": [],
   "source": [
    "@manipulate for n=1:25, g=[:scatter, :path], col=colorant\"red\"\n",
    "    plot(rand(n), rand(n), linetype=g, color=col)\n",
    "end"
   ]
  },
  {
   "cell_type": "markdown",
   "metadata": {},
   "source": [
    "## PyPlot"
   ]
  },
  {
   "cell_type": "code",
   "execution_count": null,
   "metadata": {},
   "outputs": [],
   "source": [
    "using PyPlot"
   ]
  },
  {
   "cell_type": "markdown",
   "metadata": {},
   "source": [
    "Since PyPlot images are often displayed as the result of function side-effects, you'll need to take an extra step in order for interactive PyPlot graphics to be updated properly as widget values are updated. You do this by using the `withfig` function to specify a figure object that will be updated in each iteration of `@manipulate`. Notice `f = figure()` and `withfig(f)` in the example below. The rest of it is straightforward."
   ]
  },
  {
   "cell_type": "code",
   "execution_count": null,
   "metadata": {},
   "outputs": [],
   "source": [
    "f = figure()\n",
    "x = linspace(0,2π,1000)\n",
    "@manipulate for α=1:0.1:3, β=1:0.1:3, γ=1:0.1:3, leg=\"a funny plot\"; withfig(f) do\n",
    "        PyPlot.plot(x, cos.(α.*x .+ sin.(β.*x .+ γ)))\n",
    "        legend([leg])\n",
    "    end\n",
    "end"
   ]
  },
  {
   "cell_type": "markdown",
   "metadata": {},
   "source": [
    "As an added bonus, you can even fire up a Python GUI with `pygui(true)` and be able to use the widgets above to update the plot."
   ]
  },
  {
   "cell_type": "markdown",
   "metadata": {
    "collapsed": true
   },
   "source": [
    "# PyPlot Subplots"
   ]
  },
  {
   "cell_type": "markdown",
   "metadata": {},
   "source": [
    "Manipulating a PyPlot figure with multiple subplots adds an extra layer of complication. The `withfig` function clears the current figure window by default at each `@manipulate` iteration. If you're manipulating multiple subplots in one figure they will not be displayed correctly. To prevent subplots being destroyed use `withfig(f,clear=false)`. Setting `clear=false` leaves the responsibility for clearing the figure window up to the user. In the case of multiple subplots you can clear each axes object individually, rather than the figure itself. This is shown in the example below."
   ]
  },
  {
   "cell_type": "code",
   "execution_count": null,
   "metadata": {},
   "outputs": [],
   "source": [
    "f2,axes = subplots(2,1)\n",
    "x = linspace(0,2π,1000)\n",
    "@manipulate for α=1:0.1:3, β=1:0.1:3, γ=1:0.1:3, leg1=\"a funny plot\", leg2=\" an even funnier plot\" \n",
    "    withfig(f2,clear=false) do\n",
    "        for ax in axes\n",
    "            ax[:cla]()\n",
    "        end\n",
    "        axes[1][:plot](x, sin.(α*x .+ cos.(β*x .+ γ)))\n",
    "        axes[2][:plot](x, cos.(α*x .+ sin.(β*x .+ γ)))\n",
    "        axes[1][:legend]([leg1])\n",
    "        axes[2][:legend]([leg2])\n",
    "    end\n",
    "end"
   ]
  },
  {
   "cell_type": "code",
   "execution_count": null,
   "metadata": {},
   "outputs": [],
   "source": []
  }
 ],
 "metadata": {
  "kernelspec": {
   "display_name": "Julia 0.6.2",
   "language": "julia",
   "name": "julia-0.6"
  },
  "language_info": {
   "file_extension": ".jl",
   "mimetype": "application/julia",
   "name": "julia",
   "version": "0.6.2"
  },
  "widgets": {
   "state": {
    "0e44a6fc-6153-4f4d-a0d4-064a007200c0": {
     "views": [
      {
       "cell_index": 13
      }
     ]
    },
    "19a5bac2-e168-47f1-97af-2cd276aaa374": {
     "views": [
      {
       "cell_index": 13
      }
     ]
    },
    "302cba3e-788e-4927-b36a-bb1671cd560e": {
     "views": [
      {
       "cell_index": 17
      }
     ]
    },
    "38dc67d6-bb6b-4d11-9b7a-901bf76030ab": {
     "views": [
      {
       "cell_index": 9
      }
     ]
    },
    "50ff121b-2410-4f48-96ff-0a3298eaec8e": {
     "views": [
      {
       "cell_index": 8
      }
     ]
    },
    "65925363-81bb-4d7c-99d5-1cc768888f13": {
     "views": [
      {
       "cell_index": 5
      }
     ]
    },
    "66299b25-adad-477a-b33b-ef94e890a60b": {
     "views": [
      {
       "cell_index": 8
      }
     ]
    },
    "68ed8636-ddac-4213-9616-d65d57a1321f": {
     "views": [
      {
       "cell_index": 17
      }
     ]
    },
    "6c8743ea-a953-4b23-b926-1b8ff943ea30": {
     "views": [
      {
       "cell_index": 5
      }
     ]
    },
    "841c54f8-07a4-4386-80d2-c4e9c7835e98": {
     "views": [
      {
       "cell_index": 5
      }
     ]
    },
    "87fc00be-a1ab-41ab-a190-b0bc96ee5bf0": {
     "views": [
      {
       "cell_index": 9
      }
     ]
    },
    "8c01fadd-74d9-4f05-8239-1555c4b38adf": {
     "views": [
      {
       "cell_index": 17
      }
     ]
    },
    "9d6cbcd1-6c6b-4191-8648-82f986d9a734": {
     "views": [
      {
       "cell_index": 17
      }
     ]
    },
    "a5a7eef3-ca78-470a-ab59-11b4dce7304b": {
     "views": [
      {
       "cell_index": 13
      }
     ]
    },
    "a5b91894-6958-46e9-95db-8e31ab077e89": {
     "views": [
      {
       "cell_index": 9
      }
     ]
    },
    "b340d829-baa2-4547-b049-75dbf7b717f7": {
     "views": [
      {
       "cell_index": 13
      }
     ]
    },
    "b79a0c2d-7f87-4247-8d5d-db8a98ff418d": {
     "views": [
      {
       "cell_index": 5
      }
     ]
    },
    "f3a36955-c17b-4aaa-842d-8f01d0fad2b8": {
     "views": [
      {
       "cell_index": 8
      }
     ]
    },
    "fe2dd16e-47a9-4b10-ac85-bd588e513545": {
     "views": [
      {
       "cell_index": 17
      }
     ]
    }
   },
   "version": "1.2.0"
  }
 },
 "nbformat": 4,
 "nbformat_minor": 1
}
