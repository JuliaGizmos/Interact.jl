{
 "cells": [
  {
   "outputs": [],
   "cell_type": "markdown",
   "source": [
    "# Tutorial\n",
    "\n",
    "## Installing everything\n",
    "\n",
    "To install Interact, simply type\n",
    "```julia\n",
    "Pkg.add(\"Interact\")\n",
    "```"
   ],
   "metadata": {}
  },
  {
   "outputs": [],
   "cell_type": "markdown",
   "source": [
    "in the REPL.\n",
    "\n",
    "The basic behavior is as follows: Interact provides a series of widgets. Each widget has an output that can be directly inspected or used to trigger some callbacks (i.e. run some code as soon as the widget changes value): the abstract supertype that gives this behavior is called `AbstractObservable`. Let's see this in practice.\n",
    "\n",
    "## Displaying a widget"
   ],
   "metadata": {}
  },
  {
   "outputs": [],
   "cell_type": "code",
   "source": [
    "using Interact\n",
    "ui = button()\n",
    "display(ui)"
   ],
   "metadata": {},
   "execution_count": null
  },
  {
   "outputs": [],
   "cell_type": "markdown",
   "source": [
    "Note that `display` works in a [Jupyter notebook](https://github.com/JuliaLang/IJulia.jl) or in [Atom/Juno IDE](https://github.com/JunoLab/Juno.jl).\n",
    "Interact can also be deployed in Jupyter Lab, but that requires installing an extension first:"
   ],
   "metadata": {}
  },
  {
   "outputs": [],
   "cell_type": "code",
   "source": [
    "cd(Pkg.dir(\"WebIO\", \"assets\"))\n",
    ";jupyter labextension install webio\n",
    ";jupyter labextension enable webio/jupyterlab_entry"
   ],
   "metadata": {},
   "execution_count": null
  },
  {
   "outputs": [],
   "cell_type": "markdown",
   "source": [
    "To deploy the app as a standalone Electron window, one would use [Blink.jl](https://github.com/JunoLab/Blink.jl):"
   ],
   "metadata": {}
  },
  {
   "outputs": [],
   "cell_type": "code",
   "source": [
    "using Blink\n",
    "w = Window()\n",
    "body!(w, ui);"
   ],
   "metadata": {},
   "execution_count": null
  },
  {
   "outputs": [],
   "cell_type": "markdown",
   "source": [
    "The app can also be served in a webpage via [Mux.jl](https://github.com/JuliaWeb/Mux.jl):"
   ],
   "metadata": {}
  },
  {
   "outputs": [],
   "cell_type": "code",
   "source": [
    "using Mux\n",
    "WebIO.webio_serve(page(\"/\", req -> ui), rand(8000:9000)) # serve on a random port"
   ],
   "metadata": {},
   "execution_count": null
  },
  {
   "outputs": [],
   "cell_type": "markdown",
   "source": [
    "## Adding behavior\n",
    "The value of our button can be inspected using `getindex`:"
   ],
   "metadata": {}
  },
  {
   "outputs": [],
   "cell_type": "code",
   "source": [
    "ui[]"
   ],
   "metadata": {},
   "execution_count": null
  },
  {
   "outputs": [],
   "cell_type": "markdown",
   "source": [
    "In the case of a button, the observable represents the number of times it has been clicked: click on it and check the value again.\n",
    "For now however this button doesn't do anything. This can be changed by adding callbacks to it.\n",
    "\n",
    "To add some behavior to the widget we can use the `on` construct. `on` takes two arguments, a function and an `AbstractObservable`. As soon as the observable is changed, the function is called with the latest value."
   ],
   "metadata": {}
  },
  {
   "outputs": [],
   "cell_type": "code",
   "source": [
    "on(println, ui)"
   ],
   "metadata": {},
   "execution_count": null
  },
  {
   "outputs": [],
   "cell_type": "markdown",
   "source": [
    "If you click again on the button you will see it printing the number of times it has been clicked so far.\n",
    "\n",
    "*Tip*: anonymous function are very useful in this programming paradigm. For example, if you want the button to say \"Hello!\" when pressed, you should use:"
   ],
   "metadata": {}
  },
  {
   "outputs": [],
   "cell_type": "code",
   "source": [
    "on(n -> println(\"Hello!\"), ui)"
   ],
   "metadata": {},
   "execution_count": null
  },
  {
   "outputs": [],
   "cell_type": "markdown",
   "source": [
    "*Tip n. 2*: using the `[]` syntax you can also set the value of the widget:"
   ],
   "metadata": {}
  },
  {
   "outputs": [],
   "cell_type": "code",
   "source": [
    "ui[] = 33;"
   ],
   "metadata": {},
   "execution_count": null
  },
  {
   "outputs": [],
   "cell_type": "markdown",
   "source": [
    "### Observables: the implementation of a widget's output\n",
    "The updatable container that only has the output of the widget but not the widget itself is a `Observable` and can be accessede using `observe(ui)`, though it should normally not be necessary to do so.\n",
    "To learn more about `Observables` and `AbstractObservable`, check out their documentation [here](https://juliagizmos.github.io/Observables.jl/latest/)."
   ],
   "metadata": {}
  },
  {
   "outputs": [],
   "cell_type": "markdown",
   "source": [
    "## What widgets are there?\n",
    "\n",
    "Once you have grasped this paradigm, you can play with any of the many widgets available:"
   ],
   "metadata": {}
  },
  {
   "outputs": [],
   "cell_type": "code",
   "source": [
    "filepicker() |> display # value is the path of selected file\n",
    "textbox(\"Write here\") |> display # value is the text typed in by the user\n",
    "autocomplete([\"Mary\", \"Jane\", \"Jack\"]) |> display # as above, but you can autocomplete words\n",
    "checkbox(label = \"Check me!\") |> display # value is a boolean describing whether it's ticked\n",
    "toggle(label = \"I have read and agreed\") |> display # same as a checkbox but styled differently\n",
    "slider(1:100, label = \"To what extent?\", value = 33) |> display # value is the number selected"
   ],
   "metadata": {},
   "execution_count": null
  },
  {
   "outputs": [],
   "cell_type": "markdown",
   "source": [
    "As well as the option widgets, that allow to choose among options:"
   ],
   "metadata": {}
  },
  {
   "outputs": [],
   "cell_type": "code",
   "source": [
    "dropdown([\"a\", \"b\", \"c\"]) |> display # value is option selected\n",
    "togglebuttons([\"a\", \"b\", \"c\"]) |> display # value is option selected\n",
    "radiobuttons([\"a\", \"b\", \"c\"]) |> display # value is option selected"
   ],
   "metadata": {},
   "execution_count": null
  },
  {
   "outputs": [],
   "cell_type": "markdown",
   "source": [
    "The option widgets can also take as input a dictionary (ordered dictionary is preferrable, to avoid items getting scrambled), in which case the label displays the key while the output stores the value:"
   ],
   "metadata": {}
  },
  {
   "outputs": [],
   "cell_type": "code",
   "source": [
    "s = dropdown(OrderedDict(\"a\" => \"Value 1\", \"b\" => \"Value 2\"))\n",
    "display(s)"
   ],
   "metadata": {},
   "execution_count": null
  },
  {
   "outputs": [],
   "cell_type": "code",
   "source": [
    "s[]"
   ],
   "metadata": {},
   "execution_count": null
  },
  {
   "outputs": [],
   "cell_type": "markdown",
   "source": [
    "## Creating custom widgets\n",
    "\n",
    "Interact allows the creation of custom composite widgets starting from simpler ones.\n",
    "Let's say for example that we want to create a widget that has three sliders and a color\n",
    "that is updated to match the RGB value we gave with the sliders."
   ],
   "metadata": {}
  },
  {
   "outputs": [],
   "cell_type": "code",
   "source": [
    "import Colors\n",
    "using Plots\n",
    "\n",
    "function mycolorpicker()\n",
    "    r = slider(0:255, label = \"red\")\n",
    "    g = slider(0:255, label = \"green\")\n",
    "    b = slider(0:255, label = \"blue\")\n",
    "    output = Interact.@map Colors.RGB(&r/255, &g/255, &b/255)\n",
    "    plt = Interact.@map plot(sin, color = &output)\n",
    "    wdg = Widget([\"r\" => r, \"g\" => g, \"b\" => b], output = output)\n",
    "    @layout! wdg hbox(plt, vbox(:r, :g, :b)) ## custom layout: by default things are stacked vertically\n",
    "end"
   ],
   "metadata": {},
   "execution_count": null
  },
  {
   "outputs": [],
   "cell_type": "markdown",
   "source": [
    "And now you can simply instantiate the widget with"
   ],
   "metadata": {}
  },
  {
   "outputs": [],
   "cell_type": "code",
   "source": [
    "mycolorpicker()"
   ],
   "metadata": {},
   "execution_count": null
  },
  {
   "outputs": [],
   "cell_type": "markdown",
   "source": [
    "Note the `&r` syntax: it means automatically update the widget as soon as the\n",
    "slider changes value. See `Interact.@map` for more details.\n",
    "If instead we wanted to only update the plot when a button is pressed we would do:"
   ],
   "metadata": {}
  },
  {
   "outputs": [],
   "cell_type": "code",
   "source": [
    "function mycolorpicker()\n",
    "    r = slider(0:255, label = \"red\")\n",
    "    g = slider(0:255, label = \"green\")\n",
    "    b = slider(0:255, label = \"blue\")\n",
    "    update = button(\"Update plot\")\n",
    "    output = Interact.@map (&update; Colors.RGB(r[]/255, g[]/255, b[]/255))\n",
    "    plt = Interact.@map plot(sin, color = &output)\n",
    "    wdg = Widget([\"r\" => r, \"g\" => g, \"b\" => b, \"update\" => update], output = output)\n",
    "    @layout! wdg hbox(plt, vbox(:r, :g, :b, :update)) ## custom layout: by default things are stacked vertically\n",
    "end"
   ],
   "metadata": {},
   "execution_count": null
  },
  {
   "outputs": [],
   "cell_type": "markdown",
   "source": [
    "## A simpler approach for simpler cases\n",
    "\n",
    "While the approach sketched above works for all sorts of situations, there is a specific macro to simplify it in some specific case. If you just want to update some result (maybe a plot) as a function of some parameters (discrete or continuous) simply write `@manipulate` before the `for` loop. Discrete parameters will be replaced by `togglebuttons` and continuous parameters by `slider`: the result will be updated as soon as you click on a button or move the slider:"
   ],
   "metadata": {}
  },
  {
   "outputs": [],
   "cell_type": "code",
   "source": [
    "width, height = 700, 300\n",
    "colors = [\"black\", \"gray\", \"silver\", \"maroon\", \"red\", \"olive\", \"yellow\", \"green\", \"lime\", \"teal\", \"aqua\", \"navy\", \"blue\", \"purple\", \"fuchsia\"]\n",
    "color(i) = colors[i%length(colors)+1]\n",
    "ui = @manipulate for nsamples in 1:200,\n",
    "        sample_step in slider(0.01:0.01:1.0, value=0.1, label=\"sample step\"),\n",
    "        phase in slider(0:0.1:2pi, value=0.0, label=\"phase\"),\n",
    "        radii in 0.1:0.1:60\n",
    "    cxs_unscaled = [i*sample_step + phase for i in 1:nsamples]\n",
    "    cys = sin.(cxs_unscaled) .* height/3 .+ height/2\n",
    "    cxs = cxs_unscaled .* width/4pi\n",
    "    dom\"svg:svg[width=$width, height=$height]\"(\n",
    "        (dom\"svg:circle[cx=$(cxs[i]), cy=$(cys[i]), r=$radii, fill=$(color(i))]\"()\n",
    "            for i in 1:nsamples)...\n",
    "    )\n",
    "end"
   ],
   "metadata": {},
   "execution_count": null
  },
  {
   "outputs": [],
   "cell_type": "markdown",
   "source": [
    "or, if you want a plot with some variables taking discrete values:"
   ],
   "metadata": {}
  },
  {
   "outputs": [],
   "cell_type": "code",
   "source": [
    "using Plots\n",
    "\n",
    "x = y = 0:0.1:30\n",
    "\n",
    "freqs = OrderedDict(zip([\"pi/4\", \"π/2\", \"3π/4\", \"π\"], [π/4, π/2, 3π/4, π]))\n",
    "\n",
    "mp = @manipulate for freq1 in freqs, freq2 in slider(0.01:0.1:4π; label=\"freq2\")\n",
    "    y = @. sin(freq1*x) * sin(freq2*x)\n",
    "    plot(x, y)\n",
    "end"
   ],
   "metadata": {},
   "execution_count": null
  },
  {
   "outputs": [],
   "cell_type": "markdown",
   "source": [
    "## Widget layout\n",
    "\n",
    "To create a full blown web-app, you should learn the layout tools that the CSS framework you are using provides. See for example the [columns](https://bulma.io/documentation/columns/) and [layout](https://bulma.io/documentation/layout/) section of the Bulma docs. You can use [WebIO](https://github.com/JuliaGizmos/WebIO.jl) to create from Julia the HTML required to create these layouts.\n",
    "\n",
    "However, this can be overwhelming at first (especially for users with no prior experience in web design). A simpler solution is [CSSUtil](https://github.com/JuliaGizmos/CSSUtil.jl), a package that provides some tools to create simple layouts."
   ],
   "metadata": {}
  },
  {
   "outputs": [],
   "cell_type": "code",
   "source": [
    "loadbutton = filepicker()\n",
    "hellobutton = button(\"Hello!\")\n",
    "goodbyebutton = button(\"Good bye!\")\n",
    "ui = vbox( # put things one on top of the other\n",
    "    loadbutton,\n",
    "    hbox( # put things one next to the other\n",
    "        pad(1em, hellobutton), # to allow some white space around the widget\n",
    "        pad(1em, goodbyebutton),\n",
    "    )\n",
    ")\n",
    "display(ui)"
   ],
   "metadata": {},
   "execution_count": null
  },
  {
   "outputs": [],
   "cell_type": "markdown",
   "source": [
    "## Update widgets as function of other widgets\n",
    "\n",
    "Sometimes the full structure of the GUI is not known in advance. For example, let's imagine we want to load a DataFrame and create a button per column. Not to make it completely trivial, as soon as a button is pressed, we want to plot a histogram of the corresponding column.\n",
    "\n",
    "*Important note*: this app needs to run in Blink, as the browser doesn't allow us to get access to the local path of a file.\n",
    "\n",
    "We start by adding a `filepicker` to choose the file, and only once we have a file we want to update the GUI. this can be done as follows:"
   ],
   "metadata": {}
  },
  {
   "outputs": [],
   "cell_type": "code",
   "source": [
    "loadbutton = filepicker()\n",
    "columnbuttons = Observable{Any}(dom\"div\"())"
   ],
   "metadata": {},
   "execution_count": null
  },
  {
   "outputs": [],
   "cell_type": "markdown",
   "source": [
    "`columnbuttons` is the `div` object that will contain all the relevant buttons. it is an `Observable` as we want its value to change over time.\n",
    "To add behavior, we can use `map!`:"
   ],
   "metadata": {}
  },
  {
   "outputs": [],
   "cell_type": "code",
   "source": [
    "using CSV, DataFrames\n",
    "data = Observable{Any}(DataFrame)\n",
    "map!(CSV.read, data, loadbutton)"
   ],
   "metadata": {},
   "execution_count": null
  },
  {
   "outputs": [],
   "cell_type": "markdown",
   "source": [
    "Now as soon as a file is uploaded, the `Observable` `data` gets updated with the correct value. Now, as soon as `data` is updated, we want to update our buttons."
   ],
   "metadata": {}
  },
  {
   "outputs": [],
   "cell_type": "code",
   "source": [
    "function makebuttons(df)\n",
    "    buttons = button.(names(df))\n",
    "    dom\"div\"(hbox(buttons))\n",
    "end\n",
    "\n",
    "map!(makebuttons, columnbuttons, data)"
   ],
   "metadata": {},
   "execution_count": null
  },
  {
   "outputs": [],
   "cell_type": "markdown",
   "source": [
    "We are almost done, we only need to add a callback to the buttons. The cleanest way is to do it during button initialization, meaning during our `makebuttons` step:"
   ],
   "metadata": {}
  },
  {
   "outputs": [],
   "cell_type": "code",
   "source": [
    "using Plots\n",
    "plt = Observable{Any}(plot()) # the container for our plot\n",
    "function makebuttons(df)\n",
    "    buttons = button.(string.(names(df)))\n",
    "    for (btn, name) in zip(buttons, names(df))\n",
    "        map!(t -> histogram(df[name]), plt, btn)\n",
    "    end\n",
    "    dom\"div\"(hbox(buttons))\n",
    "end"
   ],
   "metadata": {},
   "execution_count": null
  },
  {
   "outputs": [],
   "cell_type": "markdown",
   "source": [
    "To put it all together:"
   ],
   "metadata": {}
  },
  {
   "outputs": [],
   "cell_type": "code",
   "source": [
    "using CSV, DataFrames, Interact, Plots\n",
    "loadbutton = filepicker()\n",
    "columnbuttons = Observable{Any}(dom\"div\"())\n",
    "data = Observable{Any}(DataFrame)\n",
    "plt = Observable{Any}(plot())\n",
    "map!(CSV.read, data, loadbutton)\n",
    "\n",
    "function makebuttons(df)\n",
    "    buttons = button.(string.(names(df)))\n",
    "    for (btn, name) in zip(buttons, names(df))\n",
    "        map!(t -> histogram(df[name]), plt, btn)\n",
    "    end\n",
    "    dom\"div\"(hbox(buttons))\n",
    "end\n",
    "\n",
    "map!(makebuttons, columnbuttons, data)\n",
    "\n",
    "ui = dom\"div\"(loadbutton, columnbuttons, plt)"
   ],
   "metadata": {},
   "execution_count": null
  },
  {
   "outputs": [],
   "cell_type": "markdown",
   "source": [
    "And now to serve it in Blink:"
   ],
   "metadata": {}
  },
  {
   "outputs": [],
   "cell_type": "code",
   "source": [
    "using Blink\n",
    "w = Window()\n",
    "body!(w, ui)"
   ],
   "metadata": {},
   "execution_count": null
  },
  {
   "outputs": [],
   "cell_type": "markdown",
   "source": [
    "*This notebook was generated using [Literate.jl](https://github.com/fredrikekre/Literate.jl).*"
   ],
   "metadata": {}
  }
 ],
 "nbformat_minor": 3,
 "metadata": {
  "language_info": {
   "file_extension": ".jl",
   "mimetype": "application/julia",
   "name": "julia",
   "version": "1.0.0"
  },
  "kernelspec": {
   "name": "julia-1.0",
   "display_name": "Julia 1.0.0",
   "language": "julia"
  }
 },
 "nbformat": 4
}
