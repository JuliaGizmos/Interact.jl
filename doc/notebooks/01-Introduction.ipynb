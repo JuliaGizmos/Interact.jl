{
 "cells": [
  {
   "cell_type": "markdown",
   "metadata": {},
   "source": [
    "# Introduction to Interact.jl"
   ]
  },
  {
   "cell_type": "code",
   "execution_count": null,
   "metadata": {},
   "outputs": [],
   "source": [
    "using Interact\n",
    "settheme!(:bulma)"
   ]
  },
  {
   "cell_type": "markdown",
   "metadata": {},
   "source": [
    "Interact.jl provides interactive widgets for IJulia. Interaction relies on [Observables.jl](https://github.com/JuliaGizmos/Observables.jl) reactive programming package. Observables provides the type `Observable` which represent time-varying values. For example, a Slider widget can be turned into a \"observable of numbers\". Execute the following two cells, and then move the slider. You will see that the value of `observe(s)` changes accordingly."
   ]
  },
  {
   "cell_type": "code",
   "execution_count": null,
   "metadata": {},
   "outputs": [],
   "source": [
    "s = slider(0:.1:1,label=\"Slider X:\")\n",
    "display(s)\n",
    "display(observe(s));"
   ]
  },
  {
   "cell_type": "markdown",
   "metadata": {},
   "source": [
    "Let us now inspect the types of these entities."
   ]
  },
  {
   "cell_type": "code",
   "execution_count": null,
   "metadata": {},
   "outputs": [],
   "source": [
    "typeof(s)"
   ]
  },
  {
   "cell_type": "code",
   "execution_count": null,
   "metadata": {},
   "outputs": [],
   "source": [
    "display(typeof(observe(s)));\n",
    "isa(observe(s), Observable)"
   ]
  },
  {
   "cell_type": "markdown",
   "metadata": {},
   "source": [
    "You can have many instances of the same widget in a notebook, and they stay in sync:"
   ]
  },
  {
   "cell_type": "code",
   "execution_count": null,
   "metadata": {},
   "outputs": [],
   "source": [
    "s"
   ]
  },
  {
   "cell_type": "markdown",
   "metadata": {},
   "source": [
    "## Using Widget Signals"
   ]
  },
  {
   "cell_type": "markdown",
   "metadata": {},
   "source": [
    "A slider is useless if you cannot do more with it than just watch its value. Thankfully we can transform one signal into another, which means we can transform the signal of values that the slider takes into, say a signal of it's squares:"
   ]
  },
  {
   "cell_type": "code",
   "execution_count": null,
   "metadata": {},
   "outputs": [],
   "source": [
    "xsquared = map(x -> x*x, observe(s))"
   ]
  },
  {
   "cell_type": "markdown",
   "metadata": {},
   "source": [
    "Go ahead and vary the slider to see this in action."
   ]
  },
  {
   "cell_type": "markdown",
   "metadata": {},
   "source": [
    "You can transform a signal into pretty much anything else. Let's use the Color package to produce different saturations of red:"
   ]
  },
  {
   "cell_type": "code",
   "execution_count": null,
   "metadata": {},
   "outputs": [],
   "source": [
    "using Colors\n",
    "map(x -> RGB(x, 0.5, 0.5), observe(s))"
   ]
  },
  {
   "cell_type": "markdown",
   "metadata": {},
   "source": [
    "You can of course use several inputs as arguments to `map` enabling you to combine many signals. Let's create a full color-picker."
   ]
  },
  {
   "cell_type": "code",
   "execution_count": null,
   "metadata": {},
   "outputs": [],
   "source": [
    "r = slider(0:0.01:1, label=\"R\")\n",
    "g = slider(0:0.01:1, label=\"G\")\n",
    "b = slider(0:0.01:1, label=\"B\")\n",
    "map(display, [r,g,b]);"
   ]
  },
  {
   "cell_type": "code",
   "execution_count": null,
   "metadata": {},
   "outputs": [],
   "source": [
    "color = map((x, y, z) -> RGB(x, y, z), observe(r), observe(g), observe(b));\n",
    "color"
   ]
  },
  {
   "cell_type": "markdown",
   "metadata": {},
   "source": [
    "We can use the HTML widget to write some text you can change the color of."
   ]
  },
  {
   "cell_type": "code",
   "execution_count": null,
   "metadata": {},
   "outputs": [],
   "source": [
    "map(color -> HTML(string(\"<div style='color:#\", hex(color), \"'>Hello, World!</div>\")), color)"
   ]
  },
  {
   "cell_type": "markdown",
   "metadata": {},
   "source": [
    "## The @manipulate Macro"
   ]
  },
  {
   "cell_type": "markdown",
   "metadata": {},
   "source": [
    "The `@manipulate` macro lets you play with any expression using widgets. We could have, for example, used `@manipulate` to make a color picker along with our HTML output in one line of code:"
   ]
  },
  {
   "cell_type": "code",
   "execution_count": null,
   "metadata": {},
   "outputs": [],
   "source": [
    "@manipulate for r = 0:.05:1, g = 0:.05:1, b = 0:.05:1\n",
    "    HTML(string(\"<div style='color:#\", hex(RGB(r,g,b)), \"'>Color me</div>\"))\n",
    "end"
   ]
  },
  {
   "cell_type": "markdown",
   "metadata": {},
   "source": [
    "## Signal of Widgets"
   ]
  },
  {
   "cell_type": "markdown",
   "metadata": {},
   "source": [
    "You can in fact create signal of other widgets to update them reactively. We have seen one case with `HTML` above. Let us now create a signal of Sliders:"
   ]
  },
  {
   "cell_type": "code",
   "execution_count": null,
   "metadata": {},
   "outputs": [],
   "source": [
    "x = slider(0:.1:2pi, label=\"x\")\n",
    "s = slider(-1:.05:1, value=map(a->sin(2a), observe(x)), label=\"sin(2x)\")\n",
    "c = slider(-1:.05:1, value=map(a->cos(2a), observe(x)), label=\"cos(2x)\")\n",
    "map(display, [x,s,c]);"
   ]
  },
  {
   "cell_type": "markdown",
   "metadata": {},
   "source": [
    "Now vary the x slider to see sin(2x) and cos(2x) get set to their appropriate values."
   ]
  },
  {
   "cell_type": "markdown",
   "metadata": {},
   "source": [
    "But in the above case, you cannot also use sin(2x) and cos(2x) sliders as input values (without doing tricky stuff beyond the scope of this introduction). To do this more simply, we will create a separate Input signal and pass it as an argument to map, to be the signal that the widget updates. Example:"
   ]
  },
  {
   "cell_type": "code",
   "execution_count": null,
   "metadata": {},
   "outputs": [],
   "source": [
    "fx = Observable(0.0) # A float input"
   ]
  },
  {
   "cell_type": "code",
   "execution_count": null,
   "metadata": {},
   "outputs": [],
   "source": [
    "x = slider(0:.1:2pi, label=\"x\")\n",
    "y = slider(-1:.05:1, value=map(sin, observe(x)), label=\"f(x)\")\n",
    "connect!(observe(y), fx)\n",
    "display(x)\n",
    "display(y)\n",
    "display(fx);"
   ]
  },
  {
   "cell_type": "markdown",
   "metadata": {},
   "source": [
    "f(x) will update as x changes. But if the user slides f(x) then the `fx` signal takes the value chosen by the user."
   ]
  }
 ],
 "metadata": {
  "kernelspec": {
   "display_name": "Julia 0.6.2",
   "language": "julia",
   "name": "julia-0.6"
  },
  "language_info": {
   "file_extension": ".jl",
   "mimetype": "application/julia",
   "name": "julia",
   "version": "0.6.2"
  },
  "widgets": {
   "state": {
    "077b09eb-b5a1-4e1b-899e-a7245ef0ad31": {
     "views": [
      {
       "cell_index": 26
      }
     ]
    },
    "0db3500a-3b54-4b1d-a1e4-be5730770f3e": {
     "views": [
      {
       "cell_index": 23
      }
     ]
    },
    "117c3c58-3627-495b-868a-6f4d9ffb98c2": {
     "views": [
      {
       "cell_index": 17
      }
     ]
    },
    "1fdf6629-5e59-4595-9907-67d646324225": {
     "views": [
      {
       "cell_index": 30
      }
     ]
    },
    "39194171-094d-4433-b609-f9cd848c0b08": {
     "views": [
      {
       "cell_index": 17
      }
     ]
    },
    "3d099a9b-7f4a-4c8a-b6ca-97288c325491": {
     "views": [
      {
       "cell_index": 30
      }
     ]
    },
    "470bfd15-5fe3-4930-8980-2b5981b3a17b": {
     "views": [
      {
       "cell_index": 30
      }
     ]
    },
    "4d25980e-3c2a-4fb5-8a9f-2a6cdce721d3": {
     "views": [
      {
       "cell_index": 26
      }
     ]
    },
    "62f947ae-8c11-4950-9948-36c8dcb97d53": {
     "views": [
      {
       "cell_index": 26
      }
     ]
    },
    "796508de-26be-43b0-b5d0-3301708e49e3": {
     "views": [
      {
       "cell_index": 30
      }
     ]
    },
    "9554341f-f900-454e-930a-54fd8d4efba7": {
     "views": [
      {
       "cell_index": 30
      }
     ]
    },
    "9f429f55-d1aa-423d-825e-d0473a8c3284": {
     "views": [
      {
       "cell_index": 26
      }
     ]
    },
    "a0dcb116-4f3e-479a-ad32-c0cdf845c7c3": {
     "views": [
      {
       "cell_index": 23
      }
     ]
    },
    "bb79b6e9-3f51-4bb5-a26a-34faaf217423": {
     "views": [
      {
       "cell_index": 17
      }
     ]
    },
    "c6190b96-107a-4dcf-8f65-4f07d4513922": {
     "views": [
      {
       "cell_index": 23
      }
     ]
    },
    "cc4ffe70-0e6f-4d6a-acd7-0748e6f650c4": {
     "views": [
      {
       "cell_index": 23
      }
     ]
    },
    "cde153a3-7066-4225-85be-082315c47118": {
     "views": [
      {
       "cell_index": 23
      }
     ]
    },
    "cf5562f2-eaf0-43b4-a64f-5ac232c117a5": {
     "views": [
      {
       "cell_index": 17
      }
     ]
    },
    "d0f5f1bf-2780-400b-a656-5acdd6158d14": {
     "views": [
      {
       "cell_index": 17
      }
     ]
    },
    "d359741d-7785-424f-a09e-7241922d84b7": {
     "views": [
      {
       "cell_index": 26
      }
     ]
    },
    "dc6509c0-d93e-402a-bf05-6ca64a3c6574": {
     "views": [
      {
       "cell_index": 17
      }
     ]
    },
    "f198e321-d200-4d30-a610-bb5f84020f2a": {
     "views": [
      {
       "cell_index": 3
      },
      {
       "cell_index": 9
      }
     ]
    },
    "f491e3a0-0ffb-4d7a-b2c5-348759a5bbbc": {
     "views": [
      {
       "cell_index": 23
      }
     ]
    }
   },
   "version": "1.2.0"
  }
 },
 "nbformat": 4,
 "nbformat_minor": 1
}
