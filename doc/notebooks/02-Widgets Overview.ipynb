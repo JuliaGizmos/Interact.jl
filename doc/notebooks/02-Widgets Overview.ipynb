{
 "cells": [
  {
   "cell_type": "markdown",
   "metadata": {},
   "source": [
    "# Widgets Overview"
   ]
  },
  {
   "cell_type": "markdown",
   "metadata": {},
   "source": [
    "The following is a run through of the widgets you can create with Interact. All widgets allow for the following keyword arguments:\n",
    "\n",
    "* `label`: Label to be shown next to the widget\n",
    "* `value`: The value the widget should be set to when created. If it is an `Observable`, the widget will update when this `Observable` is changed\n",
    "\n",
    "Many of the widgets have keyword arguments specific to them. See below for more."
   ]
  },
  {
   "cell_type": "code",
   "execution_count": null,
   "metadata": {},
   "outputs": [],
   "source": [
    "using Interact"
   ]
  },
  {
   "cell_type": "markdown",
   "metadata": {},
   "source": [
    "## Slider"
   ]
  },
  {
   "cell_type": "markdown",
   "metadata": {},
   "source": [
    "Sliders are arguably the most useful of the widgets. A slider can be created with the `slider{T <: Number}(range::Range{T})` function. The value of the slider defaults to the median of the range, and can be set using the `value::T` keyword argument. The type of signal a slider depends on the type of the range. E.g. A floating point range like `0:π/4:2π` gives a signal of floating point values, while a range like `1:10` gives a signal of integers."
   ]
  },
  {
   "cell_type": "code",
   "execution_count": null,
   "metadata": {},
   "outputs": [],
   "source": [
    "float_slider = slider(0:π/4:2π)"
   ]
  },
  {
   "cell_type": "code",
   "execution_count": null,
   "metadata": {},
   "outputs": [],
   "source": [
    "int_slider = slider(1:10)"
   ]
  },
  {
   "cell_type": "code",
   "execution_count": null,
   "metadata": {},
   "outputs": [],
   "source": [
    "observe(int_slider)"
   ]
  },
  {
   "cell_type": "markdown",
   "metadata": {},
   "source": [
    "## Checkbox"
   ]
  },
  {
   "cell_type": "markdown",
   "metadata": {},
   "source": [
    "`checkbox` takes an optional first argument which defaults to `false` and creates a checkbox."
   ]
  },
  {
   "cell_type": "code",
   "execution_count": null,
   "metadata": {},
   "outputs": [],
   "source": [
    "display(checkbox())\n",
    "checkbox(true)"
   ]
  },
  {
   "cell_type": "markdown",
   "metadata": {},
   "source": [
    "## Toggle"
   ]
  },
  {
   "cell_type": "markdown",
   "metadata": {},
   "source": [
    "You can create a toggle switch with `toggle` which takes as an optional argument its label."
   ]
  },
  {
   "cell_type": "code",
   "execution_count": null,
   "metadata": {},
   "outputs": [],
   "source": [
    "status = toggle(\"Mary called\", value=true)"
   ]
  },
  {
   "cell_type": "code",
   "execution_count": null,
   "metadata": {},
   "outputs": [],
   "source": [
    "map(s -> s ? \"Mary called\" : \"Mary didn't call\", observe(status))"
   ]
  },
  {
   "cell_type": "markdown",
   "metadata": {},
   "source": [
    "## Button"
   ]
  },
  {
   "cell_type": "markdown",
   "metadata": {},
   "source": [
    "A button gives out as `Observable` its number of clicks. You can set the starting point using the `value` keyword argument. The observable updates when the button is clicked. "
   ]
  },
  {
   "cell_type": "code",
   "execution_count": null,
   "metadata": {},
   "outputs": [],
   "source": [
    "b = button(\"Click Me\")"
   ]
  },
  {
   "cell_type": "markdown",
   "metadata": {},
   "source": [
    "Here is how you can count the number of clicks made on a button:"
   ]
  },
  {
   "cell_type": "code",
   "execution_count": null,
   "metadata": {},
   "outputs": [],
   "source": [
    "observe(b)"
   ]
  },
  {
   "cell_type": "markdown",
   "metadata": {},
   "source": [
    "## Option widgets"
   ]
  },
  {
   "cell_type": "markdown",
   "metadata": {},
   "source": [
    "There are 3 options widgets: `dropdown`, `togglebuttons`, `radiobuttons`. There are two types allowed as an argument while invoking these:\n",
    "1. `AbstractArray` (e.g. `Vector`, `Tuple`)\n",
    "2. `Associative` (e.g. `Dict`, `OrderedDict`)\n",
    "The default value is the first element (or undefined in case of an undordered `Associative` like `Dict`), but this can be set using the `value` keyword argument."
   ]
  },
  {
   "cell_type": "code",
   "execution_count": null,
   "metadata": {},
   "outputs": [],
   "source": [
    "a = dropdown([\"one\", \"two\", \"three\"])"
   ]
  },
  {
   "cell_type": "code",
   "execution_count": null,
   "metadata": {},
   "outputs": [],
   "source": [
    "observe(a)"
   ]
  },
  {
   "cell_type": "code",
   "execution_count": null,
   "metadata": {},
   "outputs": [],
   "source": [
    "f = radiobuttons(Dict(\"Add\" => \"+\", \"Sub\" => \"-\", \"Exp\" => \"^\"))"
   ]
  },
  {
   "cell_type": "code",
   "execution_count": null,
   "metadata": {},
   "outputs": [],
   "source": [
    "map(g -> \"e $g π*im\", observe(f))"
   ]
  },
  {
   "cell_type": "markdown",
   "metadata": {},
   "source": [
    "Notice that the order \"Add\", \"Sub\", \"Exp\" was not retained in the above example, because a `Dict` does not save the ordering. To overcome this, we can use `OrderedDict`:"
   ]
  },
  {
   "cell_type": "code",
   "execution_count": null,
   "metadata": {},
   "outputs": [],
   "source": [
    "f_ = togglebuttons(OrderedDict(\"Add\" => +, \"Sub\" => -, \"Exp\" => ^))"
   ]
  },
  {
   "cell_type": "code",
   "execution_count": null,
   "metadata": {},
   "outputs": [],
   "source": [
    "map(g -> g(ℯ, π*im), observe(f_))"
   ]
  },
  {
   "cell_type": "markdown",
   "metadata": {},
   "source": [
    "## Textbox"
   ]
  },
  {
   "cell_type": "markdown",
   "metadata": {},
   "source": [
    "A textbox can be of a `Number` or `AbstractString` type. `textbox` takes one argument: its default value."
   ]
  },
  {
   "cell_type": "code",
   "execution_count": null,
   "metadata": {},
   "outputs": [],
   "source": [
    "string_box = textbox(\"Change me\")"
   ]
  },
  {
   "cell_type": "code",
   "execution_count": null,
   "metadata": {},
   "outputs": [],
   "source": [
    "observe(string_box)"
   ]
  },
  {
   "cell_type": "markdown",
   "metadata": {},
   "source": [
    "## Spinbox\n",
    "\n",
    "Use spinbox for number input:"
   ]
  },
  {
   "cell_type": "code",
   "execution_count": null,
   "metadata": {},
   "outputs": [],
   "source": [
    "int_box = spinbox(value=0)"
   ]
  },
  {
   "cell_type": "code",
   "execution_count": null,
   "metadata": {},
   "outputs": [],
   "source": [
    "observe(int_box)"
   ]
  },
  {
   "cell_type": "markdown",
   "metadata": {},
   "source": [
    "If creating a number typed textbox, you can also pass along an optional `range` field to set a bound on the possible values one can input."
   ]
  },
  {
   "cell_type": "code",
   "execution_count": null,
   "metadata": {},
   "outputs": [],
   "source": [
    "bounded_float_box = spinbox(-10.0:10)"
   ]
  },
  {
   "cell_type": "code",
   "execution_count": null,
   "metadata": {},
   "outputs": [],
   "source": [
    "observe(bounded_float_box)"
   ]
  },
  {
   "cell_type": "markdown",
   "metadata": {},
   "source": [
    "## Textarea"
   ]
  },
  {
   "cell_type": "markdown",
   "metadata": {},
   "source": [
    "`textarea` takes an optional default value and creates a textarea. Its `Observable` changes when you type."
   ]
  },
  {
   "cell_type": "code",
   "execution_count": null,
   "metadata": {},
   "outputs": [],
   "source": [
    "tex = textarea(value=\"\\\\sum_{i=1}^{\\\\infty} e_i\")"
   ]
  },
  {
   "cell_type": "code",
   "execution_count": null,
   "metadata": {},
   "outputs": [],
   "source": [
    "map(latex, observe(tex))"
   ]
  },
  {
   "cell_type": "markdown",
   "metadata": {},
   "source": [
    "## The `widget` Function"
   ]
  },
  {
   "cell_type": "markdown",
   "metadata": {},
   "source": [
    "`widget` tries to coerce a value into a widget."
   ]
  },
  {
   "cell_type": "code",
   "execution_count": null,
   "metadata": {},
   "outputs": [],
   "source": [
    "map(display, [\n",
    "    widget(1:10),                 # Slider\n",
    "    widget(false),                # Checkbox\n",
    "    widget(\"text\"),               # Textbox\n",
    "    widget(1.1),                  # Number Textbox\n",
    "    widget([:on, :off]),          # Toggle Buttons\n",
    "    widget(Dict(\"π\" => float(π), \"τ\" => 2π))\n",
    "    ]);"
   ]
  },
  {
   "cell_type": "code",
   "execution_count": null,
   "metadata": {},
   "outputs": [],
   "source": []
  }
 ],
 "metadata": {
  "kernelspec": {
   "display_name": "Julia 1.0.0",
   "language": "julia",
   "name": "julia-1.0"
  },
  "language_info": {
   "file_extension": ".jl",
   "mimetype": "application/julia",
   "name": "julia",
   "version": "1.0.0"
  },
  "widgets": {
   "state": {
    "0537856b-dcef-4a80-b055-397ce2d6b278": {
     "views": [
      {
       "cell_index": 41
      }
     ]
    },
    "0747bcef-b77d-463e-8d90-94117b1d2761": {
     "views": [
      {
       "cell_index": 24
      }
     ]
    },
    "08128fa0-e93c-4175-803f-61bd8b0b50b7": {
     "views": [
      {
       "cell_index": 31
      }
     ]
    },
    "18f83694-d14f-42e8-841f-565121a329a3": {
     "views": [
      {
       "cell_index": 45
      }
     ]
    },
    "20ac9ac0-26aa-4eac-bc98-633b2760dbaa": {
     "views": [
      {
       "cell_index": 10
      }
     ]
    },
    "342f4b4d-5a81-4e0b-bad8-0c99e958ccbd": {
     "views": [
      {
       "cell_index": 45
      }
     ]
    },
    "393c18a2-1c49-4489-838c-90d3bc357dc1": {
     "views": [
      {
       "cell_index": 45
      }
     ]
    },
    "3cfb5447-06f6-4fa4-8903-d74e9e3a43be": {
     "views": [
      {
       "cell_index": 10
      }
     ]
    },
    "48d1525e-3094-4f33-b5f0-2c2bc2aaad86": {
     "views": [
      {
       "cell_index": 22
      }
     ]
    },
    "4a42212f-531e-4aab-b5a6-1879735e6685": {
     "views": [
      {
       "cell_index": 5
      }
     ]
    },
    "4bd7e200-c768-4557-884d-c1416ba1e92e": {
     "views": [
      {
       "cell_index": 45
      }
     ]
    },
    "6091fedb-c52f-49f6-a4c8-5a7e3a92399e": {
     "views": [
      {
       "cell_index": 45
      }
     ]
    },
    "72ec5f22-631d-4444-908f-560774003564": {
     "views": [
      {
       "cell_index": 45
      }
     ]
    },
    "896d5dd8-35d1-4f2b-a542-9b7f655ac413": {
     "views": [
      {
       "cell_index": 6
      }
     ]
    },
    "9993b892-1e49-404d-bf90-08d5f39c4acd": {
     "views": [
      {
       "cell_index": 27
      }
     ]
    },
    "9b514a32-2ae8-415b-bbf1-6b48e3a52ae3": {
     "views": [
      {
       "cell_index": 17
      }
     ]
    },
    "9f241f8e-e4ce-46a7-9795-b28efa15515e": {
     "views": [
      {
       "cell_index": 45
      }
     ]
    },
    "a298204c-a73a-4ecf-96a6-c1c592d4c357": {
     "views": [
      {
       "cell_index": 10
      }
     ]
    },
    "a479df4a-4aed-4b02-adc5-2aadcba9f149": {
     "views": [
      {
       "cell_index": 45
      }
     ]
    },
    "ac721d1a-8611-4241-a41c-6b29be098235": {
     "views": [
      {
       "cell_index": 34
      }
     ]
    },
    "adcb4e24-ac2e-4de0-9610-280b8f3141bd": {
     "views": [
      {
       "cell_index": 13
      }
     ]
    },
    "b185098b-737c-407a-97fb-d614965e4bda": {
     "views": [
      {
       "cell_index": 42
      }
     ]
    },
    "bfacaf3f-3d64-44d5-8440-1c232d74359e": {
     "views": [
      {
       "cell_index": 37
      }
     ]
    },
    "db384733-7369-4102-a0a9-83662119a087": {
     "views": [
      {
       "cell_index": 10
      }
     ]
    },
    "ebba2f4d-9536-4acb-aff6-6fc2143a5d74": {
     "views": [
      {
       "cell_index": 45
      }
     ]
    }
   },
   "version": "1.2.0"
  }
 },
 "nbformat": 4,
 "nbformat_minor": 1
}
